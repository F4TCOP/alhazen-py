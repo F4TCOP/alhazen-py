{
 "cells": [
  {
   "cell_type": "code",
   "execution_count": 5,
   "metadata": {
    "collapsed": true,
    "pycharm": {
     "name": "#%%\n"
    }
   },
   "outputs": [],
   "source": [
    "from alhazen import Alhazen\n",
    "\n",
    "from alhazen_formalizations.calculator import initial_inputs, grammar_alhazen as grammar, prop\n",
    "from alhazen.helper import show_tree"
   ]
  },
  {
   "cell_type": "code",
   "execution_count": 6,
   "metadata": {
    "collapsed": false,
    "pycharm": {
     "name": "#%%\n"
    }
   },
   "outputs": [],
   "source": [
    "MAX_ITERATION = 30\n",
    "alhazen = Alhazen(\n",
    "    initial_inputs=initial_inputs,\n",
    "    grammar=grammar,\n",
    "    evaluation_function=prop,\n",
    "    max_iter=MAX_ITERATION\n",
    ")\n",
    "trees = alhazen.run()"
   ]
  },
  {
   "cell_type": "code",
   "execution_count": 46,
   "metadata": {
    "collapsed": false,
    "pycharm": {
     "name": "#%%\n"
    }
   },
   "outputs": [
    {
     "name": "stdout",
     "output_type": "stream",
     "text": [
      "None\n"
     ]
    }
   ],
   "source": [
    "from alhazen.feature_collector import Collector\n",
    "from sklearn.tree import export_text\n",
    "import numpy as np\n",
    "\n",
    "from alhazen.oracle import OracleResult\n",
    "\n",
    "\n",
    "collector = Collector(grammar=grammar)\n",
    "\n",
    "tree = trees[MAX_ITERATION-1].tree_\n",
    "\n",
    "paths = []\n",
    "\n",
    "def search_path(tree, id, path_ids):\n",
    "    \n",
    "    path_ids.append(id)\n",
    "\n",
    "    if tree.children_left[id] != tree.children_right[id]:  \n",
    "        search_path(tree, tree.children_left[id], path_ids)\n",
    "        search_path(tree, tree.children_right[id], path_ids)\n",
    "    else:\n",
    "        value = tree.value[id]\n",
    "        class_index = np.argmax(value)\n",
    "        class_name = trees[MAX_ITERATION-1].classes_[class_index]\n",
    "        if class_index == 0:\n",
    "            return OracleResult.BUG, path_ids\n",
    "\n",
    "    \n",
    "print(search_path(tree, 0, []))\n",
    "\n",
    "\n",
    "\n",
    "\n",
    "\n",
    "\n",
    "\n",
    "\n",
    "\n"
   ]
  },
  {
   "cell_type": "code",
   "execution_count": 48,
   "metadata": {},
   "outputs": [
    {
     "name": "stdout",
     "output_type": "stream",
     "text": [
      "[[0, 1], [0, 2, 3], [0, 2, 4]]\n"
     ]
    }
   ],
   "source": [
    "clf = trees[MAX_ITERATION-1]\n",
    "\n",
    "\n",
    "n_nodes = clf.tree_.node_count\n",
    "children_left = clf.tree_.children_left\n",
    "children_right = clf.tree_.children_right\n",
    "feature = clf.tree_.feature\n",
    "threshold = clf.tree_.threshold\n",
    "impurity = clf.tree_.impurity\n",
    "value = clf.tree_.value\n",
    "\n",
    "\n",
    "def retrieve_branches(number_nodes, children_left_list, children_right_list):\n",
    "    \"\"\"Retrieve decision tree branches\"\"\"\n",
    "    \n",
    "    # Calculate if a node is a leaf\n",
    "    is_leaves_list = [(False if cl != cr else True) for cl, cr in zip(children_left_list, children_right_list)]\n",
    "    \n",
    "    # Store the branches paths\n",
    "    paths = []\n",
    "    \n",
    "    for i in range(number_nodes):\n",
    "        if is_leaves_list[i]:\n",
    "            # Search leaf node in previous paths\n",
    "            end_node = [path[-1] for path in paths]\n",
    "\n",
    "            # If it is a leave node yield the path\n",
    "            if i in end_node:\n",
    "                output = paths.pop(np.argwhere(i == np.array(end_node))[0][0])\n",
    "                yield output\n",
    "\n",
    "        else:\n",
    "            \n",
    "            # Origin and end nodes\n",
    "            origin, end_l, end_r = i, children_left_list[i], children_right_list[i]\n",
    "\n",
    "            # Iterate over previous paths to add nodes\n",
    "            for index, path in enumerate(paths):\n",
    "                if origin == path[-1]:\n",
    "                    paths[index] = path + [end_l]\n",
    "                    paths.append(path + [end_r])\n",
    "\n",
    "            # Initialize path in first iteration\n",
    "            if i == 0:\n",
    "                paths.append([i, children_left[i]])\n",
    "                paths.append([i, children_right[i]])\n",
    "\n",
    "all_branches = list(retrieve_branches(n_nodes, children_left, children_right))\n",
    "print(all_branches)"
   ]
  }
 ],
 "metadata": {
  "kernelspec": {
   "display_name": "Python 3",
   "language": "python",
   "name": "python3"
  },
  "language_info": {
   "codemirror_mode": {
    "name": "ipython",
    "version": 3
   },
   "file_extension": ".py",
   "mimetype": "text/x-python",
   "name": "python",
   "nbconvert_exporter": "python",
   "pygments_lexer": "ipython3",
   "version": "3.11.3"
  }
 },
 "nbformat": 4,
 "nbformat_minor": 0
}
